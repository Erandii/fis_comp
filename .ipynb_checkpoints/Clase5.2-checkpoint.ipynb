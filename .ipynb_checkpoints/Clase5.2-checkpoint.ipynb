{
 "cells": [
  {
   "cell_type": "markdown",
   "metadata": {},
   "source": [
    "# Método de Runge Kutta"
   ]
  },
  {
   "cell_type": "markdown",
   "metadata": {},
   "source": [
    "Como el método de las iteradas de picard nos pareció muy complicado, vamos a escribir un programa con el método de runge kutta, que sólo utiliza derivadas.\n",
    "\n",
    "NOTA: tampoco sabemos como son las derivadas, pero vamos a escribirlas en función de $f$ (evaluada en distintos intervalos) que es lo único que voy a conocer.\n",
    "\n",
    "Así que empecemos con la serie de taylor de la función alrededor de $x_0$:"
   ]
  },
  {
   "cell_type": "markdown",
   "metadata": {},
   "source": [
    "$$\n",
    "f(x_0+h)=f(x_0)+f'(x_0)h+f''(x_0)\\frac{h^2}{2!}+ \\dots + f^n(x_0)\\frac{h^n}{n!}\n",
    "$$"
   ]
  },
  {
   "cell_type": "markdown",
   "metadata": {},
   "source": [
    "Y vamos a hacer algebrita con ella para obtener las siguientes expresiones:"
   ]
  },
  {
   "cell_type": "markdown",
   "metadata": {},
   "source": [
    "$$\n",
    "f(x_0)=\\frac{1}{6}\\left ( -f(x_0+2h)+4f(x_0+h)+4f(x_0-h)-f(x_0-2h) \\right)\n",
    "$$"
   ]
  },
  {
   "cell_type": "markdown",
   "metadata": {},
   "source": [
    "$$\n",
    "f''(x_0)=\\frac{1}{3h^2} \\left ( f(x_0+2h)-f(x_0+h)-f(x_0-h)+f(x_0-2h) \\right)\n",
    "$$"
   ]
  },
  {
   "cell_type": "markdown",
   "metadata": {},
   "source": [
    "Bla bla bla no entendí que paso"
   ]
  },
  {
   "cell_type": "markdown",
   "metadata": {},
   "source": [
    "La ecuación que vamos a escribir en el código va a ser:"
   ]
  },
  {
   "cell_type": "markdown",
   "metadata": {},
   "source": [
    "$$\n",
    "y_{n+1}=y_n+hf+\\frac{1}{2}h^2 \\left ( \\frac{\\partial f}{\\partial x} J(f) \\right )\n",
    "$$"
   ]
  },
  {
   "cell_type": "markdown",
   "metadata": {},
   "source": [
    "Con $f=f(x_n,y_n)$, J es el jacobiano de $f$ y el orden de error es $O(h^3)$"
   ]
  },
  {
   "cell_type": "code",
   "execution_count": 5,
   "metadata": {
    "collapsed": false
   },
   "outputs": [],
   "source": [
    "from pylab import*\n",
    "%matplotlib inline"
   ]
  },
  {
   "cell_type": "code",
   "execution_count": 6,
   "metadata": {
    "collapsed": false
   },
   "outputs": [
    {
     "data": {
      "text/plain": [
       "array([[ 4.,  5.,  6.],\n",
       "       [ 0.,  0.,  0.],\n",
       "       [ 0.,  0.,  0.],\n",
       "       [ 0.,  0.,  0.],\n",
       "       [ 0.,  0.,  0.],\n",
       "       [ 0.,  0.,  0.],\n",
       "       [ 0.,  0.,  0.],\n",
       "       [ 0.,  0.,  0.],\n",
       "       [ 0.,  0.,  0.],\n",
       "       [ 0.,  0.,  0.],\n",
       "       [ 0.,  0.,  0.]])"
      ]
     },
     "execution_count": 6,
     "metadata": {},
     "output_type": "execute_result"
    }
   ],
   "source": [
    "def runge_kutta2(ec,jac,p_ini,x,h=0.1): \n",
    "    #jac va a ser una lista con dos elementos: 1 vector en la primera entrada y un arreglo en la segunda entrada\n",
    "    #f=ec(p_ini)\n",
    "    #df=jac(p_ini)[0]\n",
    "    tiempos=arange(x[0],x[1]+h,h)\n",
    "    sol=zeros((len(tiempos),len(p_ini)))\n",
    "    sol[0,:]=p_ini\n",
    "    #for i in tiempos:\n",
    "    #   jn1=yn + (h*f)+(0.5*h*h*jac[0]+dot(jac[1],f))\n",
    "    return sol\n",
    "\n",
    "runge_kutta2(0,0,[4,5,6],[0,1])"
   ]
  },
  {
   "cell_type": "code",
   "execution_count": null,
   "metadata": {
    "collapsed": true
   },
   "outputs": [],
   "source": []
  },
  {
   "cell_type": "code",
   "execution_count": null,
   "metadata": {
    "collapsed": true
   },
   "outputs": [],
   "source": []
  },
  {
   "cell_type": "markdown",
   "metadata": {},
   "source": [
    "NOTA: Cuando se elige el orden al que vamos a hacer nuestra serie de taylor, también estamos diciendo hasta que orden será el método de runge kutta (dos órdenes de magnitud menos y siempre un número par)"
   ]
  }
 ],
 "metadata": {
  "kernelspec": {
   "display_name": "Python 2",
   "language": "python",
   "name": "python2"
  },
  "language_info": {
   "codemirror_mode": {
    "name": "ipython",
    "version": 2
   },
   "file_extension": ".py",
   "mimetype": "text/x-python",
   "name": "python",
   "nbconvert_exporter": "python",
   "pygments_lexer": "ipython2",
   "version": "2.7.6"
  }
 },
 "nbformat": 4,
 "nbformat_minor": 0
}
