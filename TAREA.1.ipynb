{
 "cells": [
  {
   "cell_type": "markdown",
   "metadata": {},
   "source": [
    "# Los diferentes algoritmos de integración de ecuaciones diferenciales"
   ]
  },
  {
   "cell_type": "markdown",
   "metadata": {},
   "source": [
    "Los métodos para resolver ecuaciones diferenciales que se describen a continuación tienen como principal idea iterar en un ciclo for la ecuación $y_n$ (distinta en cada método). La solución es un conjunto de datos en un intervalo de tiempo $x$. Cuando el método funciona "
   ]
  },
  {
   "cell_type": "code",
   "execution_count": 1,
   "metadata": {
    "collapsed": true
   },
   "outputs": [],
   "source": [
    "from pylab import*\n",
    "%matplotlib inline"
   ]
  },
  {
   "cell_type": "markdown",
   "metadata": {},
   "source": [
    "## Integración con el método de Euler"
   ]
  },
  {
   "cell_type": "markdown",
   "metadata": {},
   "source": [
    "#### Derivación"
   ]
  },
  {
   "cell_type": "markdown",
   "metadata": {},
   "source": [
    "Su principal idea es que la gráfica de una función desconocida $f$ se puede aproximar con una poligonal. \n",
    "\n",
    "El punto inicial $(x_0,y_0=f(x_0))$, que pertenece a la gráfica de la función $f$, es el primer punto de la poligonal y en dicho punto vamos a evaluar la derivada $f'$ de nuestra función (ésta la conocemos pues precisamente nuestra ecuación diferencial nos está dando una expresión para ella), y por tanto podemos conocer la pendiente $m$ en ese punto: $\\ \\ m_0=f'(x_0)$.\n",
    "\n",
    "Los demás puntos son obtenidos mediante un proceso iterativo: \n",
    "\n",
    "\\begin{equation}\n",
    "x_n=x_0+nh \\ \\ \\ \\ \\ \\ \\ \\ \\ \\ \\ \\ \\ \\ \\ \\ \\ \\ \\ \\ \\ \\ \\ \\ \\ \\ \\ \\ \\ \\ \\ \\ \\ \\ \\ \\ \\ \\ \\ \\ \\ \\dots (1) \\\\\n",
    "y_n=f(x_n)=f(x_{n-1}+h) \\ \\ \\ \\ \\ \\ \\ \\ \\ \\ \\ \\ \\ \\ \\ \\ \\ \\ \\ \\ \\ \\ \\ \\ \\dots (2)\n",
    "\\end{equation}\n",
    "\n",
    "Ahora bien, por Taylor a primer orden:\n",
    "\n",
    "$$\n",
    "f(x_{n-1}+h) \\simeq f(x_{n-1})+hf'(x_{n-1})\n",
    "$$\n",
    "\n",
    "La función $f'$ es desconocida pero podemos aproximarla como una recta con pendiente $m_{n-1}=f'(x_{n-1})$ que tiene como dominio $[x_{n-1},x_{n}]$ y que pasa por el punto $x_{n-1}$.\n",
    "\n",
    "De ésta manera, la gráfica de la función $f$ adopta la forma de una poligonal que tiene como vértices los puntos de la forma $(x_n,f(x_n))$.  La arista entre dos puntos $(x_n,y_n)$ y $(x_{n+1},y_{n+1})$ es una recta descrita por la ecuación: \n",
    "\n",
    "$$\n",
    "f_{n}(z)=y_{n}+zm_{n} \\ \\ \\ \\ \\ \\ \\ \\ z \\in [x_{n},x_{n+1}]\n",
    "$$\n",
    "\n",
    "En particular cuando $z=x_{n+1}$:\n",
    "\n",
    "$$\n",
    "y_{n+1}= f_{n}(x_{n+1})=y_{n}+x_{n+1}m_{n}=f(x_n)+x_{n+1}f'(x_n)=f(x_n)+hf'(x_n)\n",
    "$$\n",
    "\n",
    "Quedando entonces que las ecuaciones (1) y (2) se convierten en:\n",
    "\n",
    "$$\n",
    "x_n=x_0+nh \\ \\ \\ \\ \\ \\ \\ \\ \\ \\ \\ \\ \\ \\ \\ \\ \\ \\ \\ \\ \\ \\ \\ \\ \\ \\ \\ \\ \\ \\ \\ \\ \\ \\ \\ \\ \\dots (3)\\\\\n",
    "y_n=f(x_n)+hf'(x_n) \\ \\ \\ \\ \\ \\ \\ \\ \\ \\ \\ \\ \\ \\ \\ \\ \\ \\ \\ \\ \\ \\ \\ \\ \\dots (4)\n",
    "$$\n",
    "\n",
    "Las funciones que vamos a definir a continuación, hacen un proceso iterativo con la ecuación (4) mediante un ciclo for. Por otra parte, con la función arrange generan una partición del segmento [x[0],x\u001b[1]] con puntos que distan h entre sí, para obtener los puntos de la ecuación (3)."
   ]
  },
  {
   "cell_type": "markdown",
   "metadata": {},
   "source": [
    "#### Código"
   ]
  },
  {
   "cell_type": "code",
   "execution_count": 56,
   "metadata": {
    "collapsed": true
   },
   "outputs": [],
   "source": [
    "def euler_1orden(ec,p_ini,x,h=0.1):\n",
    "    #ec es la ecuación diferencial que queremos resolver. \n",
    "    #p_ini va a ser una lista con los valores iniciales\n",
    "    #x va a ser una lista con el tiempo inicial y el tiempo final en los que vamos a iterar la función sol\n",
    "    #h es el paso de tiempo\n",
    "    \n",
    "    tiempos = arange(x[0],x[1]+h,h)\n",
    "    #arrange esta creando un vector con valores desde la primer coordenada del vector p_ini \n",
    "    #hasta t_final con distancias h.\n",
    "    \n",
    "    sol = zeros((len(tiempos),len(p_ini)))\n",
    "    #estamos creando un array de ceros con tantos renglones como particiones h del intervalo [x[0],x[1]] \n",
    "    #y con el mismo número de columnas que de datos iniciales.\n",
    "    \n",
    "    sol[0,:]= p_ini\n",
    "    #al anterior array le estamos añadiendo los datos iniciales como el primer renglón. \n",
    "    \n",
    "    for i in range(len(tiempos)-1):\n",
    "        sol[i+1,:] = sol[i,:] + h*ec(sol[i],tiempos[i])\n",
    "    #el ciclo for está iterando la función del método de Euler\n",
    "    #cada iteración i se va almacenando en renglón i del arreglo sol\n",
    "    \n",
    "    return tiempos,sol\n",
    "    #la función da como resultado el arreglo tiempos y el arreglo sol."
   ]
  },
  {
   "cell_type": "markdown",
   "metadata": {},
   "source": [
    "## Integración sobre serie de Taylor a segundo orden"
   ]
  },
  {
   "cell_type": "markdown",
   "metadata": {},
   "source": [
    "#### Derivación"
   ]
  },
  {
   "cell_type": "markdown",
   "metadata": {},
   "source": [
    "En el método de Euler de primer orden escribimos la función mediante una serie de Taylor a primer orden, en éste caso, vamos a usar la serie de Taylor hasta orden 2:\n",
    "$$\n",
    "x_n=x_0+nh \\ \\ \\ \\ \\ \\ \\ \\ \\ \\ \\ \\ \\ \\ \\ \\ \\ \\ \\ \\ \\ \\ \\ \\ \\ \\ \\ \\ \\ \\ \\ \\ \\ \\ \\ \\ \\ \\ \\ \\ \\ \\dots (1) \\\\\n",
    "y_n=f(x_n)=f(x_{n-1}+h) \\ \\ \\ \\ \\ \\ \\ \\ \\ \\ \\ \\ \\ \\ \\ \\ \\ \\ \\ \\ \\ \\ \\ \\ \\dots (2)\n",
    "$$\n",
    "\n",
    "Por lo tanto, para la ecuación (2) utilizaremos la siguiente aproximación:\n",
    "\n",
    "$$\n",
    "f(x_{n-1}+h) \\simeq f(x_{n-1})+hf'(x_{n-1})+\\frac{h^2}{2!}f''(x_{n-1}) \\ \\ \\ \\ \\ \\ \\ \\ \\ \\ \\ \\dots (3)\n",
    "$$\n",
    "\n",
    "Ahora bien, como la ecuación diferencial $(f'(x)=g(x,y))$ es una expresión para la derivada de $f$, la segunda derivada de $f$ es de la forma:\n",
    "\n",
    "$$\n",
    "f''(x)=\\frac{d}{dx}f'(x)=\\frac{d}{dx}g(x,y)=\\frac{\\partial g(x,y)}{\\partial x}+\\frac{\\partial g(x,y)}{\\partial y}\\frac{\\partial y}{\\partial x}=\\frac{\\partial f'(x)}{\\partial x}+\\frac{\\partial f'(x)}{\\partial y}f'(x)\n",
    "$$\n",
    "\n",
    "Entonces sustituyendo en (3) tenemos que:\n",
    "\n",
    "$$\n",
    "f(x_{n-1}+h) \\simeq f(x_{n-1})+hf'(x_{n-1})+\\frac{h^2}{2} \\left( \\frac{\\partial f'(x_{n-1})}{\\partial x} +\\frac{\\partial f'(x_{n-1})}{\\partial y}f'(x_{n-1}) \\right)\n",
    "$$\n",
    "\n",
    "Quedando que las ecuaciones (1) y (2) se convierten en:\n",
    "\n",
    "\n",
    "$$\n",
    "x_n=x_0+nh \\ \\ \\ \\ \\ \\ \\ \\ \\ \\ \\ \\ \\ \\ \\ \\ \\ \\ \\ \\ \\ \\ \\ \\ \\ \\ \\ \\ \\ \\ \\ \\ \\ \\ \\ \\ \\ \\ \\ \\ \\ \\ \\ \\ \\ \\ \\ \\ \\ \\ \\ \\ \\  \\ \\ \\ \\ \\dots (4)\\\\\n",
    "y_n=f(x_n)+hf'(x_n)+ \\frac{h^2}{2}\\left( \\frac{\\partial f'(x_{n})}{\\partial x} +\\frac{\\partial f'(x_{n})}{\\partial y}f'(x_{n}) \\right)\\ \\ \\ \\  \\ \\ \\dots (5)\n",
    "$$\n",
    "\n",
    "\n",
    "Las funciones que vamos a definir a continuación, hacen un proceso iterativo con la ecuación (5) mediante un ciclo for. Por otra parte, con la función arrange generan una partición del segmento [x[0],x\u001b[1]] con puntos que distan h entre sí, para obtener los puntos de la ecuación (4)."
   ]
  },
  {
   "cell_type": "markdown",
   "metadata": {},
   "source": [
    "#### Código"
   ]
  },
  {
   "cell_type": "code",
   "execution_count": 55,
   "metadata": {
    "collapsed": true
   },
   "outputs": [],
   "source": [
    "def euler_2orden(ec,d_ec,p_ini,x,h=0.1): \n",
    "    #ec es la ecuación diferencial que queremos resolver. Cuando es un sistema de ecuaciones, \n",
    "    #necesitamos escribir el vector con la información como un array.\n",
    "    #d_ec es la derivada de ec, cuando tenemos un sistema de ecuaciones, toda la información de \n",
    "    #la derivada (una matriz) se escribe en forma de array.\n",
    "    #p_ini va a ser una lista con los valores iniciales\n",
    "    #x va a ser una lista con el tiempo inicial y el tiempo final en los que vamos a iterar la función sol\n",
    "    #h es el paso de tiempo\n",
    "    \n",
    "    tiempos=arange(x[0],x[1]+h,h) \n",
    "    \n",
    "    sol=zeros((len(tiempos),len(p_ini)))\n",
    "    #estamos creando un array de ceros con tantos renglones como particiones h del intervalo [x[0],x[1]] \n",
    "    #y con el mismo número de columnas que de datos iniciales.\n",
    "    \n",
    "    sol[0,:]=p_ini\n",
    "    #al anterior array le estamos añadiendo los datos iniciales como el primer renglón. \n",
    "    \n",
    "    for i in xrange(len(tiempos)-1):\n",
    "        f=ec(sol[i,:],tiempos[i])\n",
    "        df,jac=d_ec(sol[i,:],tiempos[i])\n",
    "        sol[i+1,:]=sol[i,:]+h*f+(0.5*h*h*(df+dot(jac,f)))          \n",
    "    #el ciclo for está haciendo tres cosas\n",
    "        #evaluar la ecuación original en los valores del renglón i para el tiempo i\n",
    "        #evaluar la derivada de la ecuación en los valores del renglón i, en el tiempo i\n",
    "        #iterar la función del método de Euler a 2do orden usando los valores que obtuvimos para df, jac y f\n",
    "    #las primeras dos expresiones son argumentos necesarios para ir obteniendo los renglones del arreglo sol.\n",
    "    #cada iteración i se va almacenando en renglón i del arreglo sol\n",
    "              \n",
    "    return tiempos,sol \n",
    "    #la función da como resultado el arreglo tiempos y el arreglo sol."
   ]
  },
  {
   "cell_type": "markdown",
   "metadata": {},
   "source": [
    "## Integración con el método de Runge-Kutta"
   ]
  },
  {
   "cell_type": "markdown",
   "metadata": {},
   "source": [
    "### Segundo orden"
   ]
  },
  {
   "cell_type": "markdown",
   "metadata": {},
   "source": [
    "#### Derivación"
   ]
  },
  {
   "cell_type": "markdown",
   "metadata": {},
   "source": [
    "#### Código"
   ]
  },
  {
   "cell_type": "code",
   "execution_count": 2,
   "metadata": {
    "collapsed": true
   },
   "outputs": [],
   "source": [
    "def runge_kutta2(ec,p_ini,x,h=0.01):\n",
    "    #ec es la ecuación diferencial que queremos resolver. Cuando es un sistema de ecuaciones, \n",
    "    #necesitamos escribir el vector con la información como un array.\n",
    "    #p_ini va a ser una lista con los valores iniciales\n",
    "    #x va a ser una lista con el tiempo inicial y el tiempo final en los que vamos a iterar la función sol\n",
    "    #h es el paso de tiempo\n",
    "    \n",
    "    tiempos = arange(x[0],x[1]+h,h)\n",
    "    \n",
    "    sol=zeros((len(tiempos),len(p_ini)))\n",
    "    #estamos creando un array de ceros con tantos renglones como particiones h del intervalo [x[0],x[1]] \n",
    "    #y con el mismo número de columnas que de datos iniciales.\n",
    "    \n",
    "    sol[0,:]=p_ini\n",
    "    #al anterior array le estamos añadiendo los datos iniciales como el primer renglón. \n",
    "    \n",
    "    for i in xrange(len(tiempos)-1):\n",
    "        k=h*ec(sol[i,:],tiempos[i])\n",
    "        f=ec(sol[i,:]+0.5*k,tiempos[i]+0.5*h)\n",
    "        sol[i+1,:]=sol[i,:]+h*f\n",
    "    #el ciclo for está haciendo tres cosas\n",
    "        #obtener la imágen de una función f que es  la ecuación original en los valores del renglón i para el tiempo i\n",
    "        #evaluar la derivada de la ecuación en los valores del renglón i, en el tiempo i\n",
    "        #iterar la función del método de Euler usando los valores que obtuvimos para df, jac y f\n",
    "    #las primeras dos expresiones son argumentos necesarios para ir obteniendo los renglones del arreglo sol.\n",
    "    #cada iteración i se va almacenando en renglón i del arreglo sol\n",
    "              \n",
    "    return tiempos, sol\n",
    "    #la función da como resultado el arreglo tiempos y el arreglo sol."
   ]
  },
  {
   "cell_type": "markdown",
   "metadata": {},
   "source": [
    "### Cuarto orden"
   ]
  },
  {
   "cell_type": "markdown",
   "metadata": {},
   "source": [
    "#### Derivación"
   ]
  },
  {
   "cell_type": "markdown",
   "metadata": {},
   "source": [
    "#### Código"
   ]
  },
  {
   "cell_type": "code",
   "execution_count": 3,
   "metadata": {
    "collapsed": true
   },
   "outputs": [],
   "source": [
    "def runge_kutta4(ec,p_ini,x,h=0.1):\n",
    "    #ec es la ecuación diferencial que queremos resolver. Cuando es un sistema de ecuaciones, \n",
    "    #necesitamos escribir el vector con la información como un array.\n",
    "    #p_ini va a ser una lista con los valores iniciales\n",
    "    #x va a ser una lista con el tiempo inicial y el tiempo final en los que vamos a iterar la función sol\n",
    "    #h es el paso de tiempo\n",
    "    \n",
    "    tiempos = arange(x[0],x[1]+h,h)\n",
    "    \n",
    "    sol=zeros((len(tiempos),len(p_ini)))\n",
    "    #estamos creando un array de ceros con tantos renglones como particiones h del intervalo [x[0],x[1]] \n",
    "    #y con el mismo número de columnas que de datos iniciales.\n",
    "    \n",
    "    sol[0,:]=p_ini\n",
    "    #al anterior array le estamos añadiendo los datos iniciales como el primer renglón.\n",
    "    \n",
    "    for i in xrange(len(tiempos)-1):\n",
    "        k1=ec(sol[i,:],tiempos[i])\n",
    "        k2=ec(sol[i,:]+0.5*h*k1,tiempos[i]+0.5*h)\n",
    "        k3=ec(sol[i,:]+0.5*h*k2,tiempos[i]+0.5*h)\n",
    "        k4=ec(sol[i,:]+h*k3,tiempos[i]+h)\n",
    "        sol[i+1,:]=sol[i,:]+(h/6.0)*(k1+2*k2+2*k3+k4)\n",
    "    #el ciclo for está haciendo tres cosas\n",
    "        #obtener la imágen de una función f que es  la ecuación original en los valores del renglón i para el tiempo i\n",
    "        #evaluar la derivada de la ecuación en los valores del renglón i, en el tiempo i\n",
    "        #iterar la función del método de Euler usando los valores que obtuvimos para df, jac y f\n",
    "    #las primeras dos expresiones son argumentos necesarios para ir obteniendo los renglones del arreglo sol.\n",
    "    #cada iteración i se va almacenando en renglón i del arreglo sol\n",
    "    \n",
    "    return tiempos, sol\n",
    "    #la función da como resultado el arreglo tiempos y el arreglo sol."
   ]
  }
 ],
 "metadata": {
  "kernelspec": {
   "display_name": "Python 2",
   "language": "python",
   "name": "python2"
  },
  "language_info": {
   "codemirror_mode": {
    "name": "ipython",
    "version": 2
   },
   "file_extension": ".py",
   "mimetype": "text/x-python",
   "name": "python",
   "nbconvert_exporter": "python",
   "pygments_lexer": "ipython2",
   "version": "2.7.6"
  }
 },
 "nbformat": 4,
 "nbformat_minor": 0
}
