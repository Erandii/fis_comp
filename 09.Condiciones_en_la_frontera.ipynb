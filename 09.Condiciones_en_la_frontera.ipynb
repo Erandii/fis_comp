{
 "cells": [
  {
   "cell_type": "markdown",
   "metadata": {},
   "source": [
    "Vamos a hacer una simulación del rebote de una pelota con un suelo (y paredes posteriormente), es decir, necesitamos imponer condiciones tales que mi pelota no pueda atravesar el suelo (o las paredes).\n",
    "\n",
    "Entonces, vamos a necesitar un integrador (runge kutta 4 con una pequeña modificación):"
   ]
  },
  {
   "cell_type": "code",
   "execution_count": 2,
   "metadata": {
    "collapsed": true
   },
   "outputs": [],
   "source": [
    "from pylab import *\n",
    "%matplotlib inline"
   ]
  },
  {
   "cell_type": "code",
   "execution_count": 3,
   "metadata": {
    "collapsed": false
   },
   "outputs": [],
   "source": [
    "def rk4(ec,p_ini,x,args=0,h=0.01):\n",
    "    #el parámetro args está evaluándose en la segunda coordenada de la ecuación diferencial\n",
    "    #éste escalar será la fricción que estamos añadiendo a la función.\n",
    "    \n",
    "    if (x[1]-x[0]) <= 5.*h:\n",
    "        h = (x[1]-x[0])/10.\n",
    "    #codigo adicional para hacer que cuando se acerque al punto \n",
    "    #de rebote los pasos sean más pequeños y nunca sobrepase la barrera.\n",
    "    \n",
    "    tiempos = arange(x[0],x[1]+h,h)\n",
    "    sol = zeros((len(tiempos),len(p_ini)))\n",
    "    sol[0,:] = p_ini\n",
    "    \n",
    "    if args==0:\n",
    "        for i in xrange(len(tiempos)-1): \n",
    "            k1 = ec(sol[i,:],tiempos[i])\n",
    "            k2 = ec(sol[i,:]+0.5*h*k1,tiempos[i]+0.5*h) \n",
    "            k3 = ec(sol[i,:]+0.5*h*k2,tiempos[i]+0.5*h) \n",
    "            k4 = ec(sol[i,:]+h*k3,tiempos[i]+h) \n",
    "            sol[i+1,:]=sol[i,:]+(h/6.)*(k1+2*k2+2*k3+k4) \n",
    "            \n",
    "    else:\n",
    "        for i in xrange(len(tiempos)-1): \n",
    "            k1 = ec(sol[i,:],tiempos[i],args)\n",
    "            k2 = ec(sol[i,:]+0.5*h*k1,tiempos[i]+0.5*h,args) \n",
    "            k3 = ec(sol[i,:]+0.5*h*k2,tiempos[i]+0.5*h,args) \n",
    "            k4 = ec(sol[i,:]+h*k3,tiempos[i]+h,args) \n",
    "            sol[i+1,:]=sol[i,:]+(h/6.)*(k1+2*k2+2*k3+k4) \n",
    "            \n",
    "    return tiempos,sol"
   ]
  },
  {
   "cell_type": "markdown",
   "metadata": {},
   "source": [
    "Vamos a programar las ecuaciones diferenciales que corresponden a una pelota que va cayendo... Estas son:\n",
    "\n",
    "$$\n",
    "m\\ddot{\\vec{a}} = -g \\hat{j} -f\\dot{\\hat{x}}\n",
    "$$\n",
    "\n",
    "con \n",
    "$$ \n",
    "\\dot{\\vec{x}}=u \\dot{\\vec{u}}=-\\frac{g}{m} \\hat{j} -\\frac{f}{m}\\hat{u}\n",
    "$$\n",
    "\n",
    "Y proponemos como modelos de fricción:\n",
    "\n",
    "$$ \n",
    "f_1 \\varpropto \\dot{\\vec{x}} \\\\  f_2 \\varpropto \\vert\\dot{\\vec{x}}\\vert^2 \n",
    "$$\n",
    "\n",
    "Y entonces, las $f's$ serán:\n",
    "\n",
    "$$ \n",
    "f_1 = \\gamma \\ \\vert \\vec{u} \\ \\vert \\\\ f_2 = \\mu \\ \\vert\\vec{u} \\ \\vert^2\n",
    "$$"
   ]
  },
  {
   "cell_type": "code",
   "execution_count": 22,
   "metadata": {
    "collapsed": true
   },
   "outputs": [],
   "source": [
    "def e_mov(r_v,t,fric=0,g=9.8,m=1):\n",
    "    u = (r_v[2]**2 + r_v[3]**2)**0.5\n",
    "    dx = r_v[2]\n",
    "    dy = r_v[3]\n",
    "    #r_v es una lista que trae las condiciones \n",
    "    #iniciales...r_v=[x,y,vx,vy] y esto se comporta como un arreglo\n",
    "    \n",
    "    if fric==0:\n",
    "        dvx,dvy = 0, -(g/m)\n",
    "        #Acá el modelo no usa fricción\"\n",
    "        \n",
    "    else:\n",
    "        dvx = -  fric([r_v[2],r_v[3]])[0] \n",
    "        dvy = -(g/m) - fric([r_v[2],r_v[3]])[1]\n",
    "        #nuestro modelo de fricción sólo depende de la velocidad \n",
    "        #Aquí el modelo sí usa fricción\"\n",
    "    \n",
    "    return array([dx,dy,dvx,dvy])"
   ]
  },
  {
   "cell_type": "markdown",
   "metadata": {},
   "source": [
    "Aquí vamos a definir nuestros modelos de fricción:"
   ]
  },
  {
   "cell_type": "code",
   "execution_count": 5,
   "metadata": {
    "collapsed": true
   },
   "outputs": [],
   "source": [
    "#definiendo las componentes de la fuerza causada por la fricción en cada caso.\n",
    "\n",
    "def fric_v(v,gamma=0.1): #proporcional a la velocidad\n",
    "    f_x = gamma*v[0]\n",
    "    f_y = gamma*v[1]\n",
    "    return array([f_x,f_y])\n",
    "\n",
    "def fric_v2(v,gamma=0.1): #proporcional al cuadrado de la verlocidad\n",
    "        norm_v = sqrt(v[0]**2 + v[1]**2)\n",
    "        f_x = gamma*norm_v*v[0]\n",
    "        f_y = gamma*norm_v*v[1]\n",
    "        return array([f_x,f_y])"
   ]
  },
  {
   "cell_type": "code",
   "execution_count": 6,
   "metadata": {
    "collapsed": false
   },
   "outputs": [
    {
     "name": "stdout",
     "output_type": "stream",
     "text": [
      "[ 1.   1.   0.  -9.8]\n",
      "[ 1.   1.  -0.1 -9.9]\n",
      "[ 1.          1.         -0.14142136 -9.94142136]\n"
     ]
    }
   ],
   "source": [
    "#NOTA: El programa va a tomar el valor de fric como cero a \n",
    "#menos que yo dé otro valor en mis condiciones iniciales.\n",
    "\n",
    "print e_mov([1,1,1,1],1)\n",
    "print e_mov([1,1,1,1],1,fric_v)\n",
    "print e_mov([1,1,1,1],1,fric_v2)"
   ]
  },
  {
   "cell_type": "markdown",
   "metadata": {},
   "source": [
    "Vamos a ver la solución a las ecuaciones diferenciales anteriores con y sin fricción :)"
   ]
  },
  {
   "cell_type": "code",
   "execution_count": 7,
   "metadata": {
    "collapsed": false
   },
   "outputs": [
    {
     "data": {
      "image/png": "[encoded data removed]",
      "text/plain": [
       "<matplotlib.figure.Figure at 0x94c1390>"
      ]
     },
     "metadata": {},
     "output_type": "display_data"
    }
   ],
   "source": [
    "p = [0,0,5,5]\n",
    "t,sol_id=rk4(e_mov,p,[0,1])\n",
    "t,sol_fv=rk4(e_mov,p,[0,1],fric_v)\n",
    "t,sol_fv2=rk4(e_mov,p,[0,1],fric_v2)\n",
    "plot(sol_id[:,0],sol_id[:,1],label=\"Solucion ideal\")\n",
    "plot(sol_fv[:,0],sol_fv[:,1],label=\"dep. de velocidad\")\n",
    "plot(sol_fv2[:,0],sol_fv[:,1],label=\"dep. de cuadrado vel.\")\n",
    "xlim([0,5.5]),ylim([0,2])\n",
    "legend()\n",
    "show()"
   ]
  },
  {
   "cell_type": "markdown",
   "metadata": {},
   "source": [
    "### ¿Y si queremos seguir modelando la trayectoria del objeto que se lanzó en tiro parabólico?"
   ]
  },
  {
   "cell_type": "markdown",
   "metadata": {},
   "source": [
    "Lo que vamos a considerar es que el objeto rebota, entonces hay que determinar en que momento el objeto deja de caer... dicho punto lo vamos a renombar como el nuevo punto de inicio"
   ]
  },
  {
   "cell_type": "code",
   "execution_count": 26,
   "metadata": {
    "collapsed": false
   },
   "outputs": [
    {
     "data": {
      "image/png": "[encoded data removed]",
      "text/plain": [
       "<matplotlib.figure.Figure at 0xac13990>"
      ]
     },
     "metadata": {},
     "output_type": "display_data"
    }
   ],
   "source": [
    "inicio = [0,0,5,5]\n",
    "N = 500\n",
    "trayectoria = zeros((500,len(inicio)))\n",
    "mi_dt = .1\n",
    "for i in range(N):\n",
    "    t,sol_dt=rk4(e_mov,inicio,[0,mi_dt],fric_v)\n",
    "    if sol_dt[-1,:][1] <0:\n",
    "        break\n",
    "    inicio = sol_dt[-1,:]\n",
    "    trayectoria[i+1,:]=inicio\n",
    "plot(sol_fv[:,0],sol_fv[:,1], 'o')\n",
    "plot(trayectoria[:,0],trayectoria[:,1],'o')\n",
    "#Estamos graficando la solución con la fricción dependiente de la velocidad \n",
    "#y la solución que estamos generando en 500 pasos con el ciclo for.\n",
    "\n",
    "#Notemos que ambas coinciden.\n",
    "show()"
   ]
  },
  {
   "cell_type": "markdown",
   "metadata": {},
   "source": [
    "Queremos optimizar la función de las bolitas verdes (de ahora en adelante son verdes), e introducir la condición para que rebote, entonces vamos a reescribir el código con unas cuantas modificaciones:"
   ]
  },
  {
   "cell_type": "code",
   "execution_count": 29,
   "metadata": {
    "collapsed": false
   },
   "outputs": [
    {
     "data": {
      "image/png": "[encoded data removed]",
      "text/plain": [
       "<matplotlib.figure.Figure at 0xb8d3930>"
      ]
     },
     "metadata": {},
     "output_type": "display_data"
    }
   ],
   "source": [
    "inicio = [0,0,5,5]\n",
    "N = 50\n",
    "trayectoria = zeros((N,len(inicio)))\n",
    "mi_dt = .1\n",
    "trayectoria[0,:]=array(inicio)\n",
    "for i in range(N-1):\n",
    "    t,sol_dt=rk4(e_mov,trayectoria[i,:],[0,mi_dt],fric_v)\n",
    "    if sol_dt[-1,:][1] <0:\n",
    "        punto = rebote(trayectoria[i,:],mi_dt)\n",
    "        trayectoria[i+1,:] = punto\n",
    "    else:\n",
    "        trayectoria[i+1,:]=sol_dt[-1,:]\n",
    "plot(trayectoria[:,0],trayectoria[:,1],'o-')\n",
    "show()\n"
   ]
  },
  {
   "cell_type": "code",
   "execution_count": 12,
   "metadata": {
    "collapsed": true
   },
   "outputs": [],
   "source": [
    "#NOTA: el rebote se está haciendo sobre el eje x\n",
    "def rebote(r_v_i,mi_dt):\n",
    "    dt_busqueda = mi_dt/2\n",
    "    y_izq = trayectoria[i,:]\n",
    "    t,sol = rk4(e_mov,trayectoria[i,:],[0,dt_busqueda],fric_v)\n",
    "    y_med = sol[-1,:]\n",
    "    while abs(y_izq[1]) > 1e-5:\n",
    "        if y_izq[1]*y_med[1] < 0:\n",
    "            reinicio = y_izq\n",
    "        else:\n",
    "            reinicio = y_med\n",
    "        dt_busqueda = dt_busqueda/2\n",
    "        t,sol = rk4(e_mov,reinicio,[0,dt_busqueda],fric_v)\n",
    "        y_izq = reinicio   \n",
    "        y_med = sol[-1,:]\n",
    "    y_izq=array([y_izq[0],y_izq[1],y_izq[2],-y_izq[3]])\n",
    "    return y_izq"
   ]
  }
 ],
 "metadata": {
  "kernelspec": {
   "display_name": "Python 2",
   "language": "python",
   "name": "python2"
  },
  "language_info": {
   "codemirror_mode": {
    "name": "ipython",
    "version": 2
   },
   "file_extension": ".py",
   "mimetype": "text/x-python",
   "name": "python",
   "nbconvert_exporter": "python",
   "pygments_lexer": "ipython2",
   "version": "2.7.6"
  }
 },
 "nbformat": 4,
 "nbformat_minor": 0
}
