{
 "cells": [
  {
   "cell_type": "code",
   "execution_count": 1,
   "metadata": {
    "collapsed": true
   },
   "outputs": [],
   "source": [
    "from pylab import*\n",
    "%matplotlib inline"
   ]
  },
  {
   "cell_type": "code",
   "execution_count": 2,
   "metadata": {
    "collapsed": true
   },
   "outputs": [],
   "source": [
    "def euler_1orden(ec,p_ini,x,h=0.1):\n",
    "    #ec es la ecuación diferencial que queremos resolver. \n",
    "    #p_ini va a ser una lista con los valores iniciales\n",
    "    #x va a ser una lista con el tiempo inicial y el tiempo final en el que vamos a iterar la función sol\n",
    "    #h es el paso de tiempo\n",
    "    \n",
    "    tiempos = arange(x[0],x[1]+h,h)\n",
    "    #arrange esta creando un vector con valores desde la primer coordenada del vector p_ini \n",
    "    #hasta t_final con distancias h.\n",
    "    \n",
    "    sol = zeros((len(tiempos),len(p_ini)))\n",
    "    #estamos creando un array de ceros con tantos renglones como particiones h del intervalo [x[0],x[1]] \n",
    "    #y con el mismo número de columnas que de datos iniciales.\n",
    "    \n",
    "    sol[0,:]= p_ini\n",
    "    #al anterior array le estamos añadiendo los datos iniciales como el primer renglón. \n",
    "    \n",
    "    for i in range(len(tiempos)-1):\n",
    "        sol[i+1,:] = sol[i,:] + h*ec(sol[i],tiempos[i])\n",
    "    #el ciclo for está iterando la función del método de Euler\n",
    "    #cada iteración i se va almacenando en renglón i del arreglo sol\n",
    "    \n",
    "    return tiempos,sol\n",
    "    #la función da como resultado el arreglo tiempos y el arreglo sol."
   ]
  },
  {
   "cell_type": "code",
   "execution_count": 7,
   "metadata": {
    "collapsed": false
   },
   "outputs": [],
   "source": [
    "def euler_2orden(ec,d_ec,p_ini,x,h=0.1): \n",
    "    tiempos = arange(x[0],x[1]+h,h)\n",
    "    sol=zeros((len(tiempos),len(p_ini)))\n",
    "    sol[0,:]=p_ini\n",
    "    for i in xrange(len(tiempos)-1):\n",
    "        f=ec(sol[i,:],tiempos[i])\n",
    "        df,jac=d_ec(sol[i,:],tiempos[i])\n",
    "        sol[i+1,:]=sol[i,:]+h*f+(0.5*h*h*(df+dot(jac,f)))\n",
    "    return tiempos,sol "
   ]
  },
  {
   "cell_type": "code",
   "execution_count": 5,
   "metadata": {
    "collapsed": true
   },
   "outputs": [],
   "source": [
    "def runge_kutta2(ec,pto,x,h=0.01):\n",
    "    tiempos = arange(x[0],x[1]+h,h)\n",
    "    sol=zeros((len(tiempos),len(pto)))\n",
    "    sol[0,:]=pto\n",
    "    for i in xrange(len(tiempos)-1):\n",
    "        k=h*ec(sol[i,:],tiempos[i])\n",
    "        f=ec(sol[i,:]+0.5*k,tiempos[i]+0.5*h)\n",
    "        sol[i+1,:]=sol[i,:]+h*f\n",
    "    return tiempos, sol"
   ]
  },
  {
   "cell_type": "code",
   "execution_count": 6,
   "metadata": {
    "collapsed": true
   },
   "outputs": [],
   "source": [
    "def runge_kutta4(ec,p_ini,x,h=0.1):\n",
    "    tiempos = arange(x[0],x[1]+h,h)\n",
    "    sol=zeros((len(tiempos),len(p_ini)))\n",
    "    sol[0,:]=p_ini\n",
    "    for i in xrange(len(tiempos)-1):\n",
    "        k1=ec(sol[i,:],tiempos[i])\n",
    "        k2=ec(sol[i,:]+0.5*h*k1,tiempos[i]+0.5*h)\n",
    "        k3=ec(sol[i,:]+0.5*h*k2,tiempos[i]+0.5*h)\n",
    "        k4=ec(sol[i,:]+h*k3,tiempos[i]+h)\n",
    "        sol[i+1,:]=sol[i,:]+(h/6.0)*(k1+2*k2+2*k3+k4)\n",
    "    return tiempos, sol"
   ]
  },
  {
   "cell_type": "markdown",
   "metadata": {},
   "source": [
    "# buscar odografa"
   ]
  },
  {
   "cell_type": "markdown",
   "metadata": {},
   "source": [
    "# y runge lenz"
   ]
  }
 ],
 "metadata": {
  "kernelspec": {
   "display_name": "Python 2",
   "language": "python",
   "name": "python2"
  },
  "language_info": {
   "codemirror_mode": {
    "name": "ipython",
    "version": 2
   },
   "file_extension": ".py",
   "mimetype": "text/x-python",
   "name": "python",
   "nbconvert_exporter": "python",
   "pygments_lexer": "ipython2",
   "version": "2.7.6"
  }
 },
 "nbformat": 4,
 "nbformat_minor": 0
}
