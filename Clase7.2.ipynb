{
 "cells": [
  {
   "cell_type": "markdown",
   "metadata": {},
   "source": [
    "# Encontrar las raices de una función"
   ]
  },
  {
   "cell_type": "markdown",
   "metadata": {},
   "source": [
    "Existen dos métodos: de bipartición y de Newton."
   ]
  },
  {
   "cell_type": "markdown",
   "metadata": {},
   "source": [
    "### Método de Bipartición"
   ]
  },
  {
   "cell_type": "markdown",
   "metadata": {},
   "source": [
    "Toma como ptos iniciales a dos valores de de $x_0,x_1$ tales que:\n",
    "$$\n",
    "f(x_0)>0 \\ \\ \\ \\ \\ \\ \\ f(x_1)<0\n",
    "$$\n",
    "\n",
    "Posteriormente se toma el punto medio entre $x_0,x_1$:\n",
    "$$\n",
    "x_2=\\frac{x_0+x_1}{2}\n",
    "$$\n",
    "\n",
    "Se evalua $x_2$ en la función y se analiza si:\n",
    "$$\n",
    "f(x_2)>0 \\ \\ \\ o \\ \\ \\ \\ f(x_2)<0\n",
    "$$\n",
    "\n",
    "Dependiendo del resultado, se elige como nuevo intervalo $[x_0,x_2]$ o $[x_2,x_1]$.\n",
    "\n",
    "El paso se repite hasta que:\n",
    "\n",
    "$$\n",
    "|x_i-x_j|<\\epsilon \\ \\ \\ y \\ \\ \\  |f(x_i)-f(x_j)|<\\epsilon\n",
    "$$\n",
    "\n",
    "donde episilon es un número que el usuario eligió dependiendo de lo que necesita.\n",
    "\n",
    "NOTA: éste algoritmo sólo sirve si la función cruza el eje, si son funciones pares como $x^2$, $x^4$, ... el algoritmo no funciona."
   ]
  },
  {
   "cell_type": "code",
   "execution_count": 1,
   "metadata": {
    "collapsed": true
   },
   "outputs": [],
   "source": [
    "from pylab import*\n",
    "%matplotlib inline"
   ]
  },
  {
   "cell_type": "code",
   "execution_count": 2,
   "metadata": {
    "collapsed": false
   },
   "outputs": [],
   "source": [
    "def biparticion(f,x_i,x_d,err=1e-5):\n",
    "    raiz=0.5*(x_i+x_d)\n",
    "    y_i,y_d=f(x_i),f(x_d)\n",
    "    while abs(raiz-x_d) >=err and abs(y_i-y_d)>=err:\n",
    "        y_m=f(raiz)\n",
    "        if y_m == 0.:\n",
    "            print \"ya tenemos la raiz!\"\n",
    "            break\n",
    "        if y_m*y_i < 0:\n",
    "            x_d=raiz\n",
    "        else:\n",
    "            x_i=raiz\n",
    "        raiz=0.5*(x_i+x_d)\n",
    "        y_i,y_d=f(x_i),f(x_d)\n",
    "    return raiz"
   ]
  },
  {
   "cell_type": "code",
   "execution_count": 3,
   "metadata": {
    "collapsed": true
   },
   "outputs": [],
   "source": [
    "def biparticion1(f,x_i,x_d,err=1e-5):\n",
    "    raiz=0.5*(x_i+x_d)\n",
    "    y_i,y_d=f(x_i),f(x_d)\n",
    "    n=0\n",
    "    while abs(raiz-x_d) >=err and abs(y_i-y_d)>=err:\n",
    "        y_m=f(raiz)\n",
    "        if y_m == 0.:\n",
    "            print \"ya tenemos la raiz!\"\n",
    "            break\n",
    "        if y_m*y_i < 0:\n",
    "            x_d=raiz\n",
    "        else:\n",
    "            x_i=raiz\n",
    "        raiz=0.5*(x_i+x_d)\n",
    "        y_i,y_d=f(x_i),f(x_d)\n",
    "        n += 1\n",
    "    return raiz"
   ]
  },
  {
   "cell_type": "code",
   "execution_count": 4,
   "metadata": {
    "collapsed": false
   },
   "outputs": [
    {
     "data": {
      "image/png": "[encoded data removed]",
      "text/plain": [
       "<matplotlib.figure.Figure at 0x9355530>"
      ]
     },
     "metadata": {},
     "output_type": "display_data"
    }
   ],
   "source": [
    "x=linspace(4,7)\n",
    "plot(x,sin(x))\n",
    "show()"
   ]
  },
  {
   "cell_type": "code",
   "execution_count": 5,
   "metadata": {
    "collapsed": false
   },
   "outputs": [
    {
     "name": "stdout",
     "output_type": "stream",
     "text": [
      "La raiz es:  6.28318023682\n",
      "Notemos que el valor de 2pi es:  6.28318530718\n",
      "Así que el error es:  5.07036317998e-06\n"
     ]
    }
   ],
   "source": [
    "print \"La raiz es: \", biparticion(sin,5,7)\n",
    "print \"Notemos que el valor de 2pi es: \",2*pi\n",
    "print \"Así que el error es: \", 2*pi-biparticion(sin,5,7)"
   ]
  },
  {
   "cell_type": "code",
   "execution_count": 6,
   "metadata": {
    "collapsed": false
   },
   "outputs": [
    {
     "data": {
      "image/png": "[encoded data removed]",
      "text/plain": [
       "<matplotlib.figure.Figure at 0x94ae1d0>"
      ]
     },
     "metadata": {},
     "output_type": "display_data"
    }
   ],
   "source": [
    "x=linspace(0.001,8)\n",
    "plot(x,log(x))\n",
    "show()"
   ]
  },
  {
   "cell_type": "code",
   "execution_count": 7,
   "metadata": {
    "collapsed": false
   },
   "outputs": [
    {
     "data": {
      "text/plain": [
       "0.9999977293014525"
      ]
     },
     "execution_count": 7,
     "metadata": {},
     "output_type": "execute_result"
    }
   ],
   "source": [
    "biparticion(log,0.001,8)"
   ]
  },
  {
   "cell_type": "code",
   "execution_count": 8,
   "metadata": {
    "collapsed": false
   },
   "outputs": [
    {
     "data": {
      "image/png": "[encoded data removed]",
      "text/plain": [
       "<matplotlib.figure.Figure at 0xab94c50>"
      ]
     },
     "metadata": {},
     "output_type": "display_data"
    }
   ],
   "source": [
    "x=linspace(-100,0)\n",
    "plot(x,exp(x))\n",
    "show()"
   ]
  },
  {
   "cell_type": "code",
   "execution_count": 9,
   "metadata": {
    "collapsed": false
   },
   "outputs": [
    {
     "ename": "TypeError",
     "evalue": "'numpy.ndarray' object is not callable",
     "output_type": "error",
     "traceback": [
      "\u001b[0;31m---------------------------------------------------------------------------\u001b[0m",
      "\u001b[0;31mTypeError\u001b[0m                                 Traceback (most recent call last)",
      "\u001b[0;32m<ipython-input-9-db29b31e604b>\u001b[0m in \u001b[0;36m<module>\u001b[0;34m()\u001b[0m\n\u001b[0;32m----> 1\u001b[0;31m \u001b[0mbiparticion\u001b[0m\u001b[0;34m(\u001b[0m\u001b[0mexp\u001b[0m\u001b[0;34m(\u001b[0m\u001b[0mx\u001b[0m\u001b[0;34m)\u001b[0m\u001b[0;34m,\u001b[0m\u001b[0;34m-\u001b[0m\u001b[0;36m10\u001b[0m\u001b[0;34m,\u001b[0m\u001b[0;36m0\u001b[0m\u001b[0;34m)\u001b[0m\u001b[0;34m\u001b[0m\u001b[0m\n\u001b[0m\u001b[1;32m      2\u001b[0m \u001b[0;31m#como no hay x tal que exp(x)<0, el programa no puede dar un resultado :(\u001b[0m\u001b[0;34m\u001b[0m\u001b[0;34m\u001b[0m\u001b[0m\n",
      "\u001b[0;32m<ipython-input-2-1d9a7390d9fd>\u001b[0m in \u001b[0;36mbiparticion\u001b[0;34m(f, x_i, x_d, err)\u001b[0m\n\u001b[1;32m      1\u001b[0m \u001b[0;32mdef\u001b[0m \u001b[0mbiparticion\u001b[0m\u001b[0;34m(\u001b[0m\u001b[0mf\u001b[0m\u001b[0;34m,\u001b[0m\u001b[0mx_i\u001b[0m\u001b[0;34m,\u001b[0m\u001b[0mx_d\u001b[0m\u001b[0;34m,\u001b[0m\u001b[0merr\u001b[0m\u001b[0;34m=\u001b[0m\u001b[0;36m1e-5\u001b[0m\u001b[0;34m)\u001b[0m\u001b[0;34m:\u001b[0m\u001b[0;34m\u001b[0m\u001b[0m\n\u001b[1;32m      2\u001b[0m     \u001b[0mraiz\u001b[0m\u001b[0;34m=\u001b[0m\u001b[0;36m0.5\u001b[0m\u001b[0;34m*\u001b[0m\u001b[0;34m(\u001b[0m\u001b[0mx_i\u001b[0m\u001b[0;34m+\u001b[0m\u001b[0mx_d\u001b[0m\u001b[0;34m)\u001b[0m\u001b[0;34m\u001b[0m\u001b[0m\n\u001b[0;32m----> 3\u001b[0;31m     \u001b[0my_i\u001b[0m\u001b[0;34m,\u001b[0m\u001b[0my_d\u001b[0m\u001b[0;34m=\u001b[0m\u001b[0mf\u001b[0m\u001b[0;34m(\u001b[0m\u001b[0mx_i\u001b[0m\u001b[0;34m)\u001b[0m\u001b[0;34m,\u001b[0m\u001b[0mf\u001b[0m\u001b[0;34m(\u001b[0m\u001b[0mx_d\u001b[0m\u001b[0;34m)\u001b[0m\u001b[0;34m\u001b[0m\u001b[0m\n\u001b[0m\u001b[1;32m      4\u001b[0m     \u001b[0;32mwhile\u001b[0m \u001b[0mabs\u001b[0m\u001b[0;34m(\u001b[0m\u001b[0mraiz\u001b[0m\u001b[0;34m-\u001b[0m\u001b[0mx_d\u001b[0m\u001b[0;34m)\u001b[0m \u001b[0;34m>=\u001b[0m\u001b[0merr\u001b[0m \u001b[0;32mand\u001b[0m \u001b[0mabs\u001b[0m\u001b[0;34m(\u001b[0m\u001b[0my_i\u001b[0m\u001b[0;34m-\u001b[0m\u001b[0my_d\u001b[0m\u001b[0;34m)\u001b[0m\u001b[0;34m>=\u001b[0m\u001b[0merr\u001b[0m\u001b[0;34m:\u001b[0m\u001b[0;34m\u001b[0m\u001b[0m\n\u001b[1;32m      5\u001b[0m         \u001b[0my_m\u001b[0m\u001b[0;34m=\u001b[0m\u001b[0mf\u001b[0m\u001b[0;34m(\u001b[0m\u001b[0mraiz\u001b[0m\u001b[0;34m)\u001b[0m\u001b[0;34m\u001b[0m\u001b[0m\n",
      "\u001b[0;31mTypeError\u001b[0m: 'numpy.ndarray' object is not callable"
     ]
    }
   ],
   "source": [
    "biparticion(exp(x),-10,0)\n",
    "#como no hay x tal que exp(x)<0, el programa no puede dar un resultado :("
   ]
  },
  {
   "cell_type": "markdown",
   "metadata": {},
   "source": [
    "### Método de Newton"
   ]
  },
  {
   "cell_type": "markdown",
   "metadata": {
    "collapsed": true
   },
   "source": [
    "Se basa en la idea de que podemos aproximar la raiz de una función mediante las derivadas de la misma. Lo que se hace es obtener una recta tangente a la función evaluada en el punto inicial y que tiene como pendiente la derivada de la función evaluada en dicho punto. El segundo paso el ver la intersección de la recta tangente"
   ]
  },
  {
   "cell_type": "markdown",
   "metadata": {},
   "source": [
    "$$\n",
    "x_{n+1}=x_n-\\frac{f(x_n)}{f'(x_n)} \\ \\ \\ \\ \\ \\ \\ \\ \\ \\ \\ \\ f'(x_n) \\neq 0 \n",
    "$$"
   ]
  },
  {
   "cell_type": "markdown",
   "metadata": {},
   "source": [
    "NOTA: Si la derivada de la función es cero, entonces el método va a diverger!"
   ]
  },
  {
   "cell_type": "markdown",
   "metadata": {},
   "source": [
    "NOTA: Hay que ser cuidadoso con éste método cuando la función tiene varias raices."
   ]
  },
  {
   "cell_type": "code",
   "execution_count": 10,
   "metadata": {
    "collapsed": true
   },
   "outputs": [],
   "source": [
    "def newton(fun,d_fun,x_i,err=1e-300):\n",
    "    while abs(fun(x_i)) >= err:\n",
    "        raiz=x_i-fun(x_i)/d_fun(x_i)\n",
    "        x_i = raiz\n",
    "    return raiz"
   ]
  },
  {
   "cell_type": "code",
   "execution_count": 11,
   "metadata": {
    "collapsed": true
   },
   "outputs": [],
   "source": [
    "def f1(x):\n",
    "    return -exp(x)\n",
    "def d_f1(x):\n",
    "    return -exp(x)"
   ]
  },
  {
   "cell_type": "code",
   "execution_count": 12,
   "metadata": {
    "collapsed": false
   },
   "outputs": [
    {
     "data": {
      "text/plain": [
       "-691.0"
      ]
     },
     "execution_count": 12,
     "metadata": {},
     "output_type": "execute_result"
    }
   ],
   "source": [
    "newton(f1,d_f1,5)\n",
    "#ahora si podemos dar un valor para la raiz de la exponencial :)"
   ]
  },
  {
   "cell_type": "markdown",
   "metadata": {},
   "source": [
    "Si queremos que se cuenten los pasos para llegar al resultado"
   ]
  },
  {
   "cell_type": "code",
   "execution_count": 13,
   "metadata": {
    "collapsed": true
   },
   "outputs": [],
   "source": [
    "def newton1(fun,d_fun,x_i,err=1e-10):\n",
    "    n=0\n",
    "    while abs(fun(x_i)) >= err:\n",
    "        print n, \"\\t\", x_i\n",
    "        raiz=x_i-fun(x_i)/d_fun(x_i)\n",
    "        x_i = raiz\n",
    "        n += 1\n",
    "    return raiz"
   ]
  },
  {
   "cell_type": "code",
   "execution_count": 14,
   "metadata": {
    "collapsed": false
   },
   "outputs": [
    {
     "name": "stdout",
     "output_type": "stream",
     "text": [
      "0 \t5\n",
      "1 \t4.0\n",
      "2 \t3.0\n",
      "3 \t2.0\n",
      "4 \t1.0\n",
      "5 \t0.0\n",
      "6 \t-1.0\n",
      "7 \t-2.0\n",
      "8 \t-3.0\n",
      "9 \t-4.0\n",
      "10 \t-5.0\n",
      "11 \t-6.0\n",
      "12 \t-7.0\n",
      "13 \t-8.0\n",
      "14 \t-9.0\n",
      "15 \t-10.0\n",
      "16 \t-11.0\n",
      "17 \t-12.0\n",
      "18 \t-13.0\n",
      "19 \t-14.0\n",
      "20 \t-15.0\n",
      "21 \t-16.0\n",
      "22 \t-17.0\n",
      "23 \t-18.0\n",
      "24 \t-19.0\n",
      "25 \t-20.0\n",
      "26 \t-21.0\n",
      "27 \t-22.0\n",
      "28 \t-23.0\n"
     ]
    },
    {
     "data": {
      "text/plain": [
       "-24.0"
      ]
     },
     "execution_count": 14,
     "metadata": {},
     "output_type": "execute_result"
    }
   ],
   "source": [
    "newton1(f1,d_f1,5)"
   ]
  },
  {
   "cell_type": "code",
   "execution_count": 15,
   "metadata": {
    "collapsed": true
   },
   "outputs": [],
   "source": [
    "def f2(x):\n",
    "    return x**4\n",
    "def d_f2(x):\n",
    "    return 4*x**3"
   ]
  },
  {
   "cell_type": "code",
   "execution_count": 16,
   "metadata": {
    "collapsed": false
   },
   "outputs": [
    {
     "name": "stdout",
     "output_type": "stream",
     "text": [
      "0 \t-200\n",
      "1 \t-150\n",
      "2 \t-112\n",
      "3 \t-84\n",
      "4 \t-63\n",
      "5 \t-47\n",
      "6 \t-35\n",
      "7 \t-26\n",
      "8 \t-19\n",
      "9 \t-14\n",
      "10 \t-10\n",
      "11 \t-7\n",
      "12 \t-5\n",
      "13 \t-3\n",
      "14 \t-2\n",
      "15 \t-1\n"
     ]
    },
    {
     "data": {
      "text/plain": [
       "0"
      ]
     },
     "execution_count": 16,
     "metadata": {},
     "output_type": "execute_result"
    }
   ],
   "source": [
    "newton1(f2,d_f2,-200)"
   ]
  },
  {
   "cell_type": "markdown",
   "metadata": {},
   "source": [
    "### Comparando métodos"
   ]
  },
  {
   "cell_type": "code",
   "execution_count": 17,
   "metadata": {
    "collapsed": false
   },
   "outputs": [],
   "source": [
    "def fea(x):\n",
    "    return x**2 + tan(sqrt(-8*x + pi))**3\n",
    "def d_fea(x):\n",
    "    return 2*x - 12*(tan(sqrt(-8*x + pi))**2 + 1)*tan(sqrt(-8*x + pi))**2/sqrt(-8*x + pi)"
   ]
  },
  {
   "cell_type": "code",
   "execution_count": 18,
   "metadata": {
    "collapsed": false
   },
   "outputs": [
    {
     "data": {
      "image/png": "[encoded data removed]",
      "text/plain": [
       "<matplotlib.figure.Figure at 0xab81570>"
      ]
     },
     "metadata": {},
     "output_type": "display_data"
    }
   ],
   "source": [
    "x=linspace(-5,0,100)\n",
    "ylim([-30,30])\n",
    "plot(x,fea(x))\n",
    "grid(True)\n",
    "show()"
   ]
  },
  {
   "cell_type": "code",
   "execution_count": 19,
   "metadata": {
    "collapsed": false
   },
   "outputs": [
    {
     "name": "stdout",
     "output_type": "stream",
     "text": [
      "0 \t-4\n",
      "1 \t-2.08230265647\n",
      "2 \t-1.98223724368\n",
      "3 \t-1.84419531028\n",
      "4 \t-1.64410621601\n",
      "5 \t-1.33678988885\n",
      "6 \t-0.890969748627\n",
      "7 \t-0.449053221684\n",
      "8 \t-0.456323592672\n",
      "9 \t-0.456490317248\n"
     ]
    },
    {
     "data": {
      "text/plain": [
       "-0.45649040060028229"
      ]
     },
     "execution_count": 19,
     "metadata": {},
     "output_type": "execute_result"
    }
   ],
   "source": [
    "newton1(fea, d_fea, -4)"
   ]
  },
  {
   "cell_type": "code",
   "execution_count": 20,
   "metadata": {
    "collapsed": false
   },
   "outputs": [
    {
     "data": {
      "text/plain": [
       "-2.9426803588867188"
      ]
     },
     "execution_count": 20,
     "metadata": {},
     "output_type": "execute_result"
    }
   ],
   "source": [
    "biparticion1(fea,-4,-2)"
   ]
  },
  {
   "cell_type": "markdown",
   "metadata": {},
   "source": [
    "NOTA: usando el mismo valor inicial, los métodos dan distintas raices, ésto es porque el método de newton está obteniendo las tangentes, y el punto de intesección de la tangente y la función está más cerca de otra raiz que de la que obtiene el método de bipartición."
   ]
  },
  {
   "cell_type": "markdown",
   "metadata": {},
   "source": [
    "### Newton a segundo orden "
   ]
  },
  {
   "cell_type": "code",
   "execution_count": 22,
   "metadata": {
    "collapsed": true
   },
   "outputs": [],
   "source": [
    "def newton2(fun, x_i, err=1e-10):\n",
    "    n=0\n",
    "    while abs(fun(x_i)) >= err:\n",
    "        print n, '\\t', x_i\n",
    "        raiz = x_i - fun(x_i)/num_dev(fun,x_i)\n",
    "        x_i= raiz\n",
    "        n += 1\n",
    "    return raiz"
   ]
  },
  {
   "cell_type": "markdown",
   "metadata": {},
   "source": [
    "NOTA: para usar los métodos de newton necesitamos utilizar derivadas, y a mi no me gusta calcular derivadas, entonces podemos hacer un programita que las haga por si mismo :) :) :)"
   ]
  },
  {
   "cell_type": "code",
   "execution_count": 29,
   "metadata": {
    "collapsed": true
   },
   "outputs": [],
   "source": [
    "def num_dev(f,x,h=1e-4):\n",
    "    return (f(x+h)-f(x-h))/(2*h)"
   ]
  },
  {
   "cell_type": "code",
   "execution_count": 34,
   "metadata": {
    "collapsed": false
   },
   "outputs": [
    {
     "data": {
      "text/plain": [
       "0.0"
      ]
     },
     "execution_count": 34,
     "metadata": {},
     "output_type": "execute_result"
    }
   ],
   "source": [
    "num_dev(sin, pi/2)"
   ]
  },
  {
   "cell_type": "markdown",
   "metadata": {},
   "source": [
    "Para dar más presición al método de newton tengo que usar una mejor definición para mi derivada, entonces usemos más términos para la serie de taylor de la función:\n",
    "\n",
    "$$\n",
    "f(x_0+-h)=f(x_0)+-f'(x_0)h+\\frac{f''(x_0)h^2}{2!}+-\\frac{f'''(x_0)h^3}{3!}+\\frac{f''''(x_0)h^4}{4!}\n",
    "$$\n",
    "$$\n",
    "f(x_0+-2h)=f(x_0)+-2f'(x_0)h+\\frac{2f''(x_0)h^2}{1}+-\\frac{4f'''(x_0)h^3}{3}+\\frac{2f''''(x_0)h^4}{3}\n",
    "$$\n",
    "\n",
    "Restando las anteriores funciones:\n",
    "\n",
    "$$\n",
    "f(x_0+h)-f(x_0-h)=2f'(x_0)h+\\frac{f'''(x_0)h^3}{3}\n",
    "$$\n",
    "$$\n",
    "f(x_0+2h)-f(x_0-2h)=4f'(x_0)h+\\frac{8f'''(x_0)h^3}{3}\n",
    "$$\n",
    "\n",
    "Despejando:\n",
    "\n",
    "$$\n",
    "f'(x_0)=\\frac{-f(x_0+2h)+8f(x_0+h)-8f(x_0-h)+f(x_0-2h)}{12h}\n",
    "$$"
   ]
  },
  {
   "cell_type": "markdown",
   "metadata": {},
   "source": [
    "Con ésta nueva descripción tenemos una mejor función :)"
   ]
  },
  {
   "cell_type": "code",
   "execution_count": 26,
   "metadata": {
    "collapsed": true
   },
   "outputs": [],
   "source": [
    "def num_dev_mejorado(f,x_0,h=1e-4):\n",
    "    return (-f(x_0+2*h)+8*f(x_0+h)-8*f(x_0-h)+f(x_0-2*h))/(12*h)"
   ]
  },
  {
   "cell_type": "code",
   "execution_count": 33,
   "metadata": {
    "collapsed": false
   },
   "outputs": [
    {
     "name": "stdout",
     "output_type": "stream",
     "text": [
      "0.707106781187\n",
      "0.707106780007\n",
      "0.707106781186\n"
     ]
    }
   ],
   "source": [
    "print(cos(pi/4))\n",
    "print(num_dev(sin,pi/4))\n",
    "print(num_dev_mejorado(sin, pi/4))"
   ]
  },
  {
   "cell_type": "code",
   "execution_count": null,
   "metadata": {
    "collapsed": true
   },
   "outputs": [],
   "source": []
  },
  {
   "cell_type": "code",
   "execution_count": null,
   "metadata": {
    "collapsed": true
   },
   "outputs": [],
   "source": []
  },
  {
   "cell_type": "code",
   "execution_count": null,
   "metadata": {
    "collapsed": true
   },
   "outputs": [],
   "source": []
  }
 ],
 "metadata": {
  "kernelspec": {
   "display_name": "Python 2",
   "language": "python",
   "name": "python2"
  },
  "language_info": {
   "codemirror_mode": {
    "name": "ipython",
    "version": 2
   },
   "file_extension": ".py",
   "mimetype": "text/x-python",
   "name": "python",
   "nbconvert_exporter": "python",
   "pygments_lexer": "ipython2",
   "version": "2.7.6"
  }
 },
 "nbformat": 4,
 "nbformat_minor": 0
}
