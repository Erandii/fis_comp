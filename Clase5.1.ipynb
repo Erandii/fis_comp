{
 "cells": [
  {
   "cell_type": "markdown",
   "metadata": {},
   "source": [
    "# Continuación de programa para resolver ecuaciones diferenciales"
   ]
  },
  {
   "cell_type": "markdown",
   "metadata": {},
   "source": [
    "## Las integrales de picard"
   ]
  },
  {
   "cell_type": "markdown",
   "metadata": {},
   "source": [
    "Es una ecuación exacta que describe la iteración n+1-ésima de la solución a una ecuación diferencial:"
   ]
  },
  {
   "cell_type": "markdown",
   "metadata": {},
   "source": [
    "$$\n",
    "y_{n+1}=y_n+\\int \\limits_a^b f(x,y) dx  \\ \\ \\ \\ \\ \\ \\dots (1)\n",
    "$$"
   ]
  },
  {
   "cell_type": "markdown",
   "metadata": {},
   "source": [
    "Pero aquí hay un problema... no podemos asegurar que el método conocido que tenemos para resolver integrales va a ser convergente en la función $f(x,y)$."
   ]
  },
  {
   "cell_type": "markdown",
   "metadata": {},
   "source": [
    "### Breviario sobre las integrales y sus deficiencias"
   ]
  },
  {
   "cell_type": "markdown",
   "metadata": {},
   "source": [
    "La forma en la que está definida la integral requiere de un proceso convergente que nos asegure que el área de los  rectángulos aproximándose a la gráfica tiende a cero."
   ]
  },
  {
   "cell_type": "markdown",
   "metadata": {},
   "source": [
    "A continuación un contraejemplo para el método que conocemos de integración :("
   ]
  },
  {
   "cell_type": "markdown",
   "metadata": {},
   "source": [
    "![title](pi.png)"
   ]
  },
  {
   "cell_type": "markdown",
   "metadata": {},
   "source": [
    "# Deducción de Runge Kutta"
   ]
  },
  {
   "cell_type": "markdown",
   "metadata": {},
   "source": [
    "Vamos a hacer una expansión en serie de Taylor para la función $f$ como:\n",
    "\n",
    "$$\n",
    "f(x)=f(x_0)+f'(x_0)x+\\frac{f''(x_0)}{2}x^2+ \\dots  \\ \\ \\ \\ \\ x \\in [0,h]\n",
    "$$\n",
    "\n",
    "Y vamos a sustituir en la ecuación (1) la función f, pero vamos a integrar sobre intervalos simétricos para que se anulen los términos pares y la expansión la vamos a hacer en el punto medio de mi intervalo $x_n$ a $x_{n+1}$:\n",
    "\n",
    "$$\n",
    "y_{n+1}=y_n+hf(x_{n+0.5},y_{n+0.5}) + f'(x_0) \\int \\limits_{-h/2}^{h/2} x dx + \\int \\limits_{-h/2}^{h/2} x dx O(h^3)  \\ \\ \\ \\ \\ \\ \\ \\dots (2)\n",
    "$$\n",
    "\n",
    "Donde $x_{n+1/2}=\\frac{x_{n+1}+x_n}{2}$ y $h=x_{n+1}-x_n$\n",
    "\n",
    "\n",
    "Ahora el programa va a necesitar saber quien es $y_{n+0.5}$:\n",
    "\n",
    "$$\n",
    "y_{n+0.5}=y_n+\\frac{h}{2}f(x_n,y_n)\n",
    "$$\n",
    "\n",
    "Por lo tanto, la ec. (2) se convierte en:\n",
    "\n",
    "$$\n",
    "y_{n+1}=y_n+hf(x_n+\\frac{h}{2},y_n+\\frac{h}{2}f(x_n,y_n))\n",
    "$$\n",
    "\n",
    "Definiendo a $k=hf(x_n,y_n)$\n",
    "\n",
    "$$\n",
    "y_{n+1}=y_n+hf(x_n+\\frac{h}{2},y_n+\\frac{k}{2})\n",
    "$$"
   ]
  },
  {
   "cell_type": "code",
   "execution_count": 16,
   "metadata": {
    "collapsed": true
   },
   "outputs": [],
   "source": [
    "from pylab import*\n",
    "%matplotlib inline"
   ]
  },
  {
   "cell_type": "code",
   "execution_count": 20,
   "metadata": {
    "collapsed": true
   },
   "outputs": [],
   "source": [
    "def runge_kutta(ec,pto,x,h=0.01):\n",
    "    tiempos = arange(x[0],x[1]+h,h)\n",
    "    sol=zeros((len(tiempos),len(pto)))\n",
    "    sol[0,:]=pto\n",
    "    for i in xrange(len(tiempos)-1):\n",
    "        k=h*ec(sol[i,:],tiempos[i])\n",
    "        f=ec(sol[i,:]+0.5*k,tiempos[i]+0.5*h)\n",
    "        sol[i+1,:]=sol[i,:]+h*f\n",
    "    return tiempos, sol"
   ]
  },
  {
   "cell_type": "code",
   "execution_count": 23,
   "metadata": {
    "collapsed": true
   },
   "outputs": [],
   "source": [
    "def p(y,t):\n",
    "    return array([y[1],-2*y[1]-0.5*sin(y[0])+cos(t)])\n"
   ]
  },
  {
   "cell_type": "code",
   "execution_count": 24,
   "metadata": {
    "collapsed": false
   },
   "outputs": [
    {
     "data": {
      "text/plain": [
       "[<matplotlib.lines.Line2D at 0xaa243b0>]"
      ]
     },
     "execution_count": 24,
     "metadata": {},
     "output_type": "execute_result"
    },
    {
     "data": {
      "image/png": "[encoded data removed]",
      "text/plain": [
       "<matplotlib.figure.Figure at 0x93c7190>"
      ]
     },
     "metadata": {},
     "output_type": "display_data"
    }
   ],
   "source": [
    "t,y = runge_kutta(p,[1,0],[0,100],0.01)\n",
    "plot(y[:,0],y[:,1])"
   ]
  }
 ],
 "metadata": {
  "kernelspec": {
   "display_name": "Python 2",
   "language": "python",
   "name": "python2"
  },
  "language_info": {
   "codemirror_mode": {
    "name": "ipython",
    "version": 2
   },
   "file_extension": ".py",
   "mimetype": "text/x-python",
   "name": "python",
   "nbconvert_exporter": "python",
   "pygments_lexer": "ipython2",
   "version": "2.7.6"
  }
 },
 "nbformat": 4,
 "nbformat_minor": 0
}
